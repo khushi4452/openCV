{
 "cells": [
  {
   "cell_type": "code",
   "execution_count": 14,
   "metadata": {},
   "outputs": [],
   "source": [
    "import cv2\n",
    "import numpy as np\n",
    "import os\n"
   ]
  },
  {
   "cell_type": "code",
   "execution_count": 9,
   "metadata": {},
   "outputs": [
    {
     "data": {
      "text/plain": [
       "array([[1, 2, 1, 2],\n",
       "       [1, 2, 1, 2]])"
      ]
     },
     "execution_count": 9,
     "metadata": {},
     "output_type": "execute_result"
    }
   ],
   "source": [
    "v = np.array([[1,2,1,2],[1,2,1,2]])\n",
    "v"
   ]
  },
  {
   "cell_type": "code",
   "execution_count": 11,
   "metadata": {},
   "outputs": [
    {
     "data": {
      "text/plain": [
       "array([[1, 2, 1, 2, 1, 2, 1, 2],\n",
       "       [1, 2, 1, 2, 1, 2, 1, 2]])"
      ]
     },
     "execution_count": 11,
     "metadata": {},
     "output_type": "execute_result"
    }
   ],
   "source": [
    "v = np.array([[1,2,1,2],[1,2,1,2]])\n",
    "np.hstack((v,v))"
   ]
  },
  {
   "cell_type": "code",
   "execution_count": 10,
   "metadata": {},
   "outputs": [
    {
     "name": "stdout",
     "output_type": "stream",
     "text": [
      "[[[40 46 51]\n",
      "  [36 42 47]\n",
      "  [39 45 50]\n",
      "  ...\n",
      "  [16 16  4]\n",
      "  [16 16  4]\n",
      "  [16 16  4]]\n",
      "\n",
      " [[40 46 51]\n",
      "  [36 42 47]\n",
      "  [38 44 49]\n",
      "  ...\n",
      "  [35 35 23]\n",
      "  [35 35 23]\n",
      "  [35 35 23]]\n",
      "\n",
      " [[40 46 51]\n",
      "  [35 41 46]\n",
      "  [37 43 48]\n",
      "  ...\n",
      "  [40 40 28]\n",
      "  [40 40 28]\n",
      "  [40 40 28]]\n",
      "\n",
      " ...\n",
      "\n",
      " [[ 7  8 12]\n",
      "  [ 6  7 11]\n",
      "  [ 6  7 11]\n",
      "  ...\n",
      "  [29 23 12]\n",
      "  [29 23 12]\n",
      "  [29 23 12]]\n",
      "\n",
      " [[ 7  8 12]\n",
      "  [ 6  7 11]\n",
      "  [ 6  7 11]\n",
      "  ...\n",
      "  [29 23 12]\n",
      "  [29 23 12]\n",
      "  [29 23 12]]\n",
      "\n",
      " [[ 7  8 12]\n",
      "  [ 6  7 11]\n",
      "  [ 6  7 11]\n",
      "  ...\n",
      "  [29 23 12]\n",
      "  [29 23 12]\n",
      "  [29 23 12]]]\n"
     ]
    }
   ],
   "source": [
    "img = cv2.imread(r\"C:\\Users\\faiya\\OneDrive\\Desktop\\jupyterlab\\img 1.jpg\")\n",
    "print(img)"
   ]
  },
  {
   "cell_type": "code",
   "execution_count": 17,
   "metadata": {},
   "outputs": [],
   "source": [
    "img = cv2.imread(r\"C:\\Users\\faiya\\OneDrive\\Desktop\\jupyterlab\\img 1.jpg\")\n",
    "re_img = cv2.resize(img, (200, 500))\n",
    "h = np.hstack((re_img, re_img))\n",
    "cv2.imshow(\"Riya\", h)  \n",
    "cv2.waitKey(0)\n",
    "cv2.destroyAllWindows()"
   ]
  },
  {
   "cell_type": "code",
   "execution_count": 7,
   "metadata": {},
   "outputs": [],
   "source": [
    "import cv2\n",
    "import numpy as np\n",
    "\n",
    "img = cv2.imread(r\"C:\\Users\\faiya\\OneDrive\\Desktop\\jupyterlab\\img 1.jpg\")\n",
    "re_img = cv2.resize(img, (110, 400))\n",
    "v = np.vstack((re_img, re_img))\n",
    "cv2.imshow(\"Riya\", v)\n",
    "cv2.waitKey(0)\n",
    "cv2.destroyAllWindows()"
   ]
  },
  {
   "cell_type": "code",
   "execution_count": 13,
   "metadata": {},
   "outputs": [],
   "source": [
    "import cv2\n",
    "import numpy as np\n",
    "\n",
    "img = cv2.imread(r\"C:\\Users\\faiya\\OneDrive\\Desktop\\jupyterlab\\img 1.jpg\")\n",
    "re_img = cv2.resize(img, (100, 200))\n",
    "v = np.vstack((h,h))\n",
    "h = np.hstack((re_img, re_img))\n",
    "cv2.imshow(\"Riya\", v)\n",
    "cv2.waitKey(0)\n",
    "cv2.destroyAllWindows()"
   ]
  }
 ],
 "metadata": {
  "kernelspec": {
   "display_name": "Python 3",
   "language": "python",
   "name": "python3"
  },
  "language_info": {
   "codemirror_mode": {
    "name": "ipython",
    "version": 3
   },
   "file_extension": ".py",
   "mimetype": "text/x-python",
   "name": "python",
   "nbconvert_exporter": "python",
   "pygments_lexer": "ipython3",
   "version": "3.12.3"
  }
 },
 "nbformat": 4,
 "nbformat_minor": 2
}
